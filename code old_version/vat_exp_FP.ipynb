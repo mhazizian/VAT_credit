{
 "cells": [
  {
   "cell_type": "code",
   "execution_count": 450,
   "metadata": {},
   "outputs": [],
   "source": [
    "clear\n",
    "\n",
    "local year 98\n",
    "/* local year 1400 */\n",
    "\n",
    "local RU R\n",
    "\n",
    "local dir \"~/Documents/Data/HEIS/`year'/csv\"\n",
    "/* local dir \"~/Documents/Data/HEIS/100/csv\" */\n",
    "\n",
    "local dir_sum \"~/Documents/Data/HEIS/DataSummary/13`year'\"\n",
    "/* local dir_sum \"~/Documents/Data/HEIS/DataSummary/`year'\" */"
   ]
  },
  {
   "cell_type": "markdown",
   "metadata": {},
   "source": [
    "```TODO```\n",
    "- to be added :)"
   ]
  },
  {
   "attachments": {},
   "cell_type": "markdown",
   "metadata": {},
   "source": [
    "# 1. Load HH monthly expenditure"
   ]
  },
  {
   "cell_type": "markdown",
   "metadata": {},
   "source": [
    "## Load Data from HEIS tables"
   ]
  },
  {
   "cell_type": "code",
   "execution_count": 451,
   "metadata": {},
   "outputs": [],
   "source": [
    "/* clear\n",
    "local path \"`dir'/R/R`year'P3S01.csv\"\n",
    "import delimited \"`path'\", delimiter(\",\") clear //\n",
    "des\n",
    "\n",
    "list */"
   ]
  },
  {
   "cell_type": "code",
   "execution_count": 452,
   "metadata": {},
   "outputs": [
    {
     "name": "stdout",
     "output_type": "stream",
     "text": [
      "\n",
      "\n",
      "(note: dataset contains 0 observations)\n",
      "(note: file /var/folders/tk/1z6fw8316qs1r4xqyfdq95xr0000gn/T//St01128.00002v not\n",
      ">  found)\n",
      "file /var/folders/tk/1z6fw8316qs1r4xqyfdq95xr0000gn/T//St01128.00002v saved\n"
     ]
    }
   ],
   "source": [
    "tempfile monthly_tempfile\n",
    "save `monthly_tempfile', replace empty"
   ]
  },
  {
   "cell_type": "code",
   "execution_count": 453,
   "metadata": {},
   "outputs": [
    {
     "name": "stdout",
     "output_type": "stream",
     "text": [
      "\n",
      "\n",
      "(7 vars, 516,811 obs)\n",
      "(21,243 observations deleted)\n",
      "file /var/folders/tk/1z6fw8316qs1r4xqyfdq95xr0000gn/T//St01128.00002v saved\n",
      "(7 vars, 4,175 obs)\n",
      "(31 observations deleted)\n",
      "file /var/folders/tk/1z6fw8316qs1r4xqyfdq95xr0000gn/T//St01128.00002v saved\n",
      "\n",
      "\n",
      "(4 vars, 22,378 obs)\n",
      "(91 observations deleted)\n",
      "file /var/folders/tk/1z6fw8316qs1r4xqyfdq95xr0000gn/T//St01128.00002v saved\n",
      "(4 vars, 87,170 obs)\n",
      "(1,267 observations deleted)\n",
      "file /var/folders/tk/1z6fw8316qs1r4xqyfdq95xr0000gn/T//St01128.00002v saved\n",
      "(4 vars, 30,600 obs)\n",
      "(4,061 observations deleted)\n",
      "file /var/folders/tk/1z6fw8316qs1r4xqyfdq95xr0000gn/T//St01128.00002v saved\n",
      "(4 vars, 35,450 obs)\n",
      "(116 observations deleted)\n",
      "file /var/folders/tk/1z6fw8316qs1r4xqyfdq95xr0000gn/T//St01128.00002v saved\n",
      "(4 vars, 28,627 obs)\n",
      "(18 observations deleted)\n",
      "file /var/folders/tk/1z6fw8316qs1r4xqyfdq95xr0000gn/T//St01128.00002v saved\n",
      "(4 vars, 10,839 obs)\n",
      "(67 observations deleted)\n",
      "file /var/folders/tk/1z6fw8316qs1r4xqyfdq95xr0000gn/T//St01128.00002v saved\n",
      "(4 vars, 11,269 obs)\n",
      "(220 observations deleted)\n",
      "file /var/folders/tk/1z6fw8316qs1r4xqyfdq95xr0000gn/T//St01128.00002v saved\n",
      "(4 vars, 67,753 obs)\n",
      "(538 observations deleted)\n",
      "file /var/folders/tk/1z6fw8316qs1r4xqyfdq95xr0000gn/T//St01128.00002v saved\n",
      "\n",
      "\n",
      "(5 vars, 68,767 obs)\n",
      "dycol03 has all characters numeric; replaced as byte\n",
      "(16025 missing values generated)\n",
      "(18,002 observations deleted)\n",
      "(614 real changes made)\n",
      "file /var/folders/tk/1z6fw8316qs1r4xqyfdq95xr0000gn/T//St01128.00002v saved\n"
     ]
    }
   ],
   "source": [
    "local tables 01 02\n",
    "foreach table of local tables {\n",
    "    local path \"`dir'/`RU'/`RU'`year'P3S`table'.csv\"\n",
    "    import delimited \"`path'\", delimiter(\",\") clear //\n",
    "    \n",
    "    // keep only if HH has paid for it.\n",
    "    drop if dycol02 != 1\n",
    "\n",
    "    rename dycol06 value\n",
    "    rename dycol01 good_code\n",
    "    \n",
    "    keep address good_code value\n",
    "\n",
    "    append using `monthly_tempfile'\n",
    "    save `monthly_tempfile', replace\n",
    "}\n",
    "\n",
    "\n",
    "local tables 03 05 06 07 08 09 11 12\n",
    "foreach table of local tables {\n",
    "    local path \"`dir'/`RU'/`RU'`year'P3S`table'.csv\"\n",
    "    import delimited \"`path'\", delimiter(\",\") clear //\n",
    "    \n",
    "    // keep only if HH has paid for it.\n",
    "    drop if dycol02 != 1\n",
    "\n",
    "    rename dycol03 value\n",
    "    rename dycol01 good_code\n",
    "    keep address good_code value\n",
    "\n",
    "    append using `monthly_tempfile'\n",
    "    save `monthly_tempfile', replace\n",
    "}\n",
    "\n",
    "local tables 04\n",
    "foreach table of local tables {\n",
    "    local path \"`dir'/`RU'/`RU'`year'P3S`table'.csv\"\n",
    "    import delimited \"`path'\", delimiter(\",\") clear //\n",
    "    \n",
    "    // keep only if HH has paid for it.\n",
    "    destring dycol03, replace\n",
    "    drop if dycol03 != 1\n",
    "\n",
    "    rename dycol04 value\n",
    "    rename dycol01 good_code\n",
    "    \n",
    "    // Rahn value adjustment (3 to 100)\n",
    "    replace value = value + (dycol02 / 100 * 3) if !missing(dycol02)\n",
    "\n",
    "    keep address good_code value\n",
    "\n",
    "    append using `monthly_tempfile'\n",
    "    save `monthly_tempfile', replace\n",
    "}"
   ]
  },
  {
   "cell_type": "code",
   "execution_count": 454,
   "metadata": {},
   "outputs": [
    {
     "name": "stdout",
     "output_type": "stream",
     "text": [
      "\n",
      "Contains data from /var/folders/tk/1z6fw8316qs1r4xqyfdq95xr0000gn/T//St01128.000\n",
      "> 02v\n",
      "  obs:       838,185                          \n",
      " vars:             3                          23 Aug 2023 17:44\n",
      " size:    13,410,960                          \n",
      "--------------------------------------------------------------------------------\n",
      "              storage   display    value\n",
      "variable name   type    format     label      variable label\n",
      "--------------------------------------------------------------------------------\n",
      "address         double  %10.0g                Address\n",
      "good_code       long    %12.0g                DYCOL01\n",
      "value           long    %12.0g                DYCOL04\n",
      "--------------------------------------------------------------------------------\n",
      "Sorted by: \n"
     ]
    }
   ],
   "source": [
    "des"
   ]
  },
  {
   "cell_type": "code",
   "execution_count": 455,
   "metadata": {},
   "outputs": [
    {
     "name": "stdout",
     "output_type": "stream",
     "text": [
      "variable value was long now double\n",
      "(838,173 real changes made)\n"
     ]
    }
   ],
   "source": [
    "replace value = 12 * value"
   ]
  },
  {
   "cell_type": "code",
   "execution_count": 456,
   "metadata": {},
   "outputs": [
    {
     "name": "stdout",
     "output_type": "stream",
     "text": [
      "file /var/folders/tk/1z6fw8316qs1r4xqyfdq95xr0000gn/T//St01128.00002v saved\n"
     ]
    }
   ],
   "source": [
    "save `monthly_tempfile', replace\n",
    "\n",
    "/* save \"`RU'_`year'_monthly_HH_exp.dta\", replace */"
   ]
  },
  {
   "attachments": {},
   "cell_type": "markdown",
   "metadata": {},
   "source": [
    "---\n",
    "## Add VAT-Rate"
   ]
  },
  {
   "cell_type": "code",
   "execution_count": 457,
   "metadata": {},
   "outputs": [
    {
     "name": "stdout",
     "output_type": "stream",
     "text": [
      "\n",
      "\n",
      "\n",
      "good_code already numeric; no replace\n",
      "\n",
      "\n",
      "\n",
      "    Result                           # of obs.\n",
      "    -----------------------------------------\n",
      "    not matched                            28\n",
      "        from master                        28  (_merge==1)\n",
      "        from using                          0  (_merge==2)\n",
      "\n",
      "    matched                           838,185  (_merge==3)\n",
      "    -----------------------------------------\n"
     ]
    }
   ],
   "source": [
    "clear\n",
    "\n",
    "import excel \"../HEIS_Month_VAT_rate.xlsx\", firstrow\n",
    "\n",
    "/* gen good_code = string(cat) + string(sub_cat) */\n",
    "destring good_code, replace\n",
    "\n",
    "keep vat_rate good_code\n",
    "merge 1:m good_code using `monthly_tempfile'\n",
    "/* merge 1:m good_code using \"`RU'_`year'_monthly_HH_exp.dta\" */"
   ]
  },
  {
   "cell_type": "code",
   "execution_count": 458,
   "metadata": {},
   "outputs": [
    {
     "name": "stdout",
     "output_type": "stream",
     "text": [
      "\n",
      "(28 observations deleted)\n",
      "\n"
     ]
    }
   ],
   "source": [
    "/* list vat_rate good_code if _merge == 1 */\n",
    "\n",
    "drop if _merge == 1\n",
    "drop _merge"
   ]
  },
  {
   "cell_type": "code",
   "execution_count": 459,
   "metadata": {},
   "outputs": [
    {
     "name": "stdout",
     "output_type": "stream",
     "text": [
      "(frequency weights assumed)\n",
      "\n",
      "   vat_rate |      Freq.     Percent        Cum.\n",
      "------------+-----------------------------------\n",
      "         -1 |46327932000        1.47        1.47\n",
      "          0 | 1.5731e+12       49.92       51.39\n",
      "          9 | 1.2381e+12       39.29       90.68\n",
      "         15 |90554294988        2.87       93.56\n",
      "         16 |15345438000        0.49       94.05\n",
      "         25 |36414765000        1.16       95.20\n",
      "         30 |99734484000        3.17       98.37\n",
      "         40 |25436466000        0.81       99.17\n",
      "        100 |26056260000        0.83      100.00\n",
      "------------+-----------------------------------\n",
      "      Total | 3.1511e+12      100.00\n"
     ]
    }
   ],
   "source": [
    "tab vat_rate [w=value]"
   ]
  },
  {
   "cell_type": "code",
   "execution_count": 460,
   "metadata": {},
   "outputs": [],
   "source": [
    "/* drop if vat_rate != 0 & vat_rate != 9 */"
   ]
  },
  {
   "cell_type": "code",
   "execution_count": 461,
   "metadata": {},
   "outputs": [
    {
     "name": "stdout",
     "output_type": "stream",
     "text": [
      "file /var/folders/tk/1z6fw8316qs1r4xqyfdq95xr0000gn/T//St01128.00002v saved\n"
     ]
    }
   ],
   "source": [
    "save `monthly_tempfile', replace"
   ]
  },
  {
   "cell_type": "markdown",
   "metadata": {},
   "source": [
    "---\n",
    "# 2. Load HH yearly expenditure"
   ]
  },
  {
   "cell_type": "code",
   "execution_count": 462,
   "metadata": {},
   "outputs": [
    {
     "name": "stdout",
     "output_type": "stream",
     "text": [
      "\n",
      "\n",
      "\n",
      "(note: dataset contains 0 observations)\n",
      "(note: file /var/folders/tk/1z6fw8316qs1r4xqyfdq95xr0000gn/T//St01128.00002w not\n",
      ">  found)\n",
      "file /var/folders/tk/1z6fw8316qs1r4xqyfdq95xr0000gn/T//St01128.00002w saved\n"
     ]
    }
   ],
   "source": [
    "clear\n",
    "tempfile yearly_tempfile\n",
    "save `yearly_tempfile', replace empty"
   ]
  },
  {
   "cell_type": "code",
   "execution_count": 463,
   "metadata": {},
   "outputs": [
    {
     "name": "stdout",
     "output_type": "stream",
     "text": [
      "\n",
      "\n",
      "(7 vars, 197,127 obs)\n",
      "dycol04 has all characters numeric; replaced as byte\n",
      "(575 missing values generated)\n",
      "value has all characters numeric; replaced as double\n",
      "(544 missing values generated)\n",
      "good_code already numeric; no replace\n",
      "dycol06 has all characters numeric; replaced as long\n",
      "(194745 missing values generated)\n",
      "(23,120 observations deleted)\n",
      "file /var/folders/tk/1z6fw8316qs1r4xqyfdq95xr0000gn/T//St01128.00002w saved\n"
     ]
    }
   ],
   "source": [
    "local tables 13\n",
    "foreach table of local tables {\n",
    "    local path \"`dir'/`RU'/`RU'`year'P3S`table'.csv\"\n",
    "    import delimited \"`path'\", delimiter(\",\") clear //\n",
    "    \n",
    "    rename dycol05 value\n",
    "    rename dycol01 good_code\n",
    "\n",
    "    // keep only if HH has paid for it.\n",
    "    destring dycol04 value good_code dycol06, replace\n",
    "    drop if dycol04 != 1\n",
    "\n",
    "    /* drop if (dycol06 > 0 && !missing(dycol06)) */\n",
    "    \n",
    "    keep address good_code value\n",
    "\n",
    "    append using `yearly_tempfile'\n",
    "    save `yearly_tempfile', replace\n",
    "}"
   ]
  },
  {
   "cell_type": "code",
   "execution_count": 464,
   "metadata": {},
   "outputs": [
    {
     "name": "stdout",
     "output_type": "stream",
     "text": [
      "file /var/folders/tk/1z6fw8316qs1r4xqyfdq95xr0000gn/T//St01128.00002w saved\n"
     ]
    }
   ],
   "source": [
    "save `yearly_tempfile', replace"
   ]
  },
  {
   "cell_type": "markdown",
   "metadata": {},
   "source": [
    "---\n",
    "## Add VAT-rate "
   ]
  },
  {
   "cell_type": "code",
   "execution_count": 465,
   "metadata": {},
   "outputs": [
    {
     "name": "stdout",
     "output_type": "stream",
     "text": [
      "\n",
      "\n",
      "\n",
      "good_code already numeric; no replace\n",
      "\n",
      "\n",
      "\n",
      "    Result                           # of obs.\n",
      "    -----------------------------------------\n",
      "    not matched                            14\n",
      "        from master                        14  (_merge==1)\n",
      "        from using                          0  (_merge==2)\n",
      "\n",
      "    matched                           174,007  (_merge==3)\n",
      "    -----------------------------------------\n"
     ]
    }
   ],
   "source": [
    "clear\n",
    "\n",
    "import excel \"../HEIS_Yearly_VAT_rate.xlsx\", firstrow\n",
    "\n",
    "/* gen good_code = string(cat) + string(sub_cat) */\n",
    "destring good_code, replace\n",
    "\n",
    "keep vat_rate good_code\n",
    "merge 1:m good_code using `yearly_tempfile'\n",
    "/* merge 1:m good_code using \"`RU'_`year'_monthly_HH_exp.dta\" */"
   ]
  },
  {
   "cell_type": "code",
   "execution_count": 466,
   "metadata": {},
   "outputs": [
    {
     "name": "stdout",
     "output_type": "stream",
     "text": [
      "\n",
      "(14 observations deleted)\n",
      "\n"
     ]
    }
   ],
   "source": [
    "/* list vat_rate good_code if _merge == 1 */\n",
    "\n",
    "drop if _merge == 1\n",
    "drop _merge"
   ]
  },
  {
   "cell_type": "code",
   "execution_count": 467,
   "metadata": {},
   "outputs": [
    {
     "name": "stdout",
     "output_type": "stream",
     "text": [
      "(frequency weights assumed)\n",
      "\n",
      "   vat_rate |      Freq.     Percent        Cum.\n",
      "------------+-----------------------------------\n",
      "          0 | 3.5742e+11       43.49       43.49\n",
      "          9 | 3.2185e+11       39.17       82.66\n",
      "        100 | 1.4250e+11       17.34      100.00\n",
      "------------+-----------------------------------\n",
      "      Total | 8.2177e+11      100.00\n"
     ]
    }
   ],
   "source": [
    "tab vat_rate [w=value]"
   ]
  },
  {
   "cell_type": "markdown",
   "metadata": {},
   "source": [
    "## Merge monthly and yearly data"
   ]
  },
  {
   "cell_type": "code",
   "execution_count": 468,
   "metadata": {},
   "outputs": [],
   "source": [
    "append using `monthly_tempfile'"
   ]
  },
  {
   "cell_type": "code",
   "execution_count": 469,
   "metadata": {},
   "outputs": [
    {
     "name": "stdout",
     "output_type": "stream",
     "text": [
      "(frequency weights assumed)\n",
      "\n",
      "   vat_rate |      Freq.     Percent        Cum.\n",
      "------------+-----------------------------------\n",
      "         -1 |46327932000        1.17        1.17\n",
      "          0 | 1.9305e+12       48.59       49.76\n",
      "          9 | 1.5600e+12       39.27       89.02\n",
      "         15 |90554294988        2.28       91.30\n",
      "         16 |15345438000        0.39       91.69\n",
      "         25 |36414765000        0.92       92.61\n",
      "         30 |99734484000        2.51       95.12\n",
      "         40 |25436466000        0.64       95.76\n",
      "        100 | 1.6856e+11        4.24      100.00\n",
      "------------+-----------------------------------\n",
      "      Total | 3.9729e+12      100.00\n"
     ]
    }
   ],
   "source": [
    "tab vat_rate [w=value]"
   ]
  },
  {
   "cell_type": "code",
   "execution_count": 470,
   "metadata": {},
   "outputs": [
    {
     "name": "stdout",
     "output_type": "stream",
     "text": [
      "\n",
      "(635 real changes made)\n",
      "\n",
      "(1,271 real changes made)\n",
      "\n",
      "(42,032 real changes made)\n"
     ]
    }
   ],
   "source": [
    "/* drop if vat_rate == -1 */\n",
    "replace vat_rate = 0 if vat_rate == -1\n",
    "replace vat_rate = 0 if vat_rate == 100\n",
    "replace vat_rate = 9 if vat_rate != 0"
   ]
  },
  {
   "cell_type": "code",
   "execution_count": 471,
   "metadata": {},
   "outputs": [
    {
     "name": "stdout",
     "output_type": "stream",
     "text": [
      "(frequency weights assumed)\n",
      "\n",
      "   vat_rate |      Freq.     Percent        Cum.\n",
      "------------+-----------------------------------\n",
      "          0 | 2.1454e+12       54.00       54.00\n",
      "          9 | 1.8274e+12       46.00      100.00\n",
      "------------+-----------------------------------\n",
      "      Total | 3.9729e+12      100.00\n"
     ]
    }
   ],
   "source": [
    "tab vat_rate [w=value]"
   ]
  },
  {
   "cell_type": "code",
   "execution_count": 472,
   "metadata": {},
   "outputs": [
    {
     "name": "stdout",
     "output_type": "stream",
     "text": [
      "file /var/folders/tk/1z6fw8316qs1r4xqyfdq95xr0000gn/T//St01128.00002w saved\n"
     ]
    }
   ],
   "source": [
    "save `yearly_tempfile', replace"
   ]
  },
  {
   "cell_type": "markdown",
   "metadata": {},
   "source": [
    "# Add ISIC4 matrix"
   ]
  },
  {
   "cell_type": "code",
   "execution_count": 473,
   "metadata": {},
   "outputs": [
    {
     "name": "stdout",
     "output_type": "stream",
     "text": [
      "\n",
      "\n",
      "\n",
      "\n",
      "\n",
      "    Result                           # of obs.\n",
      "    -----------------------------------------\n",
      "    not matched                           504\n",
      "        from master                       504  (_merge==1)\n",
      "        from using                          0  (_merge==2)\n",
      "\n",
      "    matched                         1,012,192  (_merge==3)\n",
      "    -----------------------------------------\n"
     ]
    }
   ],
   "source": [
    "clear\n",
    "\n",
    "import excel \"../ISIC_2_COICOP.xlsx\", firstrow\n",
    "rename COICOP good_code\n",
    "\n",
    "/* gen good_code = string(cat) + string(sub_cat) */\n",
    "/* destring good_code, replace */\n",
    "\n",
    "/* keep vat_rate good_code */\n",
    "merge 1:m good_code using `yearly_tempfile'\n",
    "/* merge 1:m good_code using \"`RU'_`year'_monthly_HH_exp.dta\" */"
   ]
  },
  {
   "cell_type": "code",
   "execution_count": 474,
   "metadata": {},
   "outputs": [
    {
     "name": "stdout",
     "output_type": "stream",
     "text": [
      "\n",
      "                        ComSector1 |      Freq.     Percent        Cum.\n",
      "-----------------------------------+-----------------------------------\n",
      "        AccomodationandFoodService |          2        0.40        0.40\n",
      "          AdministrativeandSupport |         14        2.78        3.17\n",
      "                       Agriculture |         12        2.38        5.56\n",
      "   ArtsEntertainmentsAndRecreation |          7        1.39        6.94\n",
      "                      Construction |         10        1.98        8.93\n",
      "                         Education |          5        0.99        9.92\n",
      "             FinancialandInsurance |          8        1.59       11.51\n",
      "                 GasAndElectricity |          6        1.19       12.70\n",
      "    HumanHealthAndSocialActivities |        118       23.41       36.11\n",
      "       InformationandCommunication |         13        2.58       38.69\n",
      "                       Manufacture |        251       49.80       88.49\n",
      "                            Mining |          1        0.20       88.69\n",
      "                    OtherServicies |         19        3.77       92.46\n",
      "ProfessionalScientificandTechnical |          6        1.19       93.65\n",
      "    PublicAdministrationAndDefence |          3        0.60       94.25\n",
      "                        RealEstate |         12        2.38       96.63\n",
      "          TransportationandStorage |          9        1.79       98.41\n",
      "                    WaterandSewage |          5        0.99       99.40\n",
      "                WholeSaleandRetail |          1        0.20       99.60\n",
      "                   outerteritorial |          2        0.40      100.00\n",
      "-----------------------------------+-----------------------------------\n",
      "                             Total |        504      100.00\n"
     ]
    }
   ],
   "source": [
    "/* list good_code if _merge == 1 */\n",
    "tab ComSector1 if _merge == 1\n",
    "/* tab good_code if _merge == 1 */"
   ]
  },
  {
   "cell_type": "code",
   "execution_count": 475,
   "metadata": {},
   "outputs": [
    {
     "name": "stdout",
     "output_type": "stream",
     "text": [
      "\n",
      "(504 observations deleted)\n",
      "\n"
     ]
    }
   ],
   "source": [
    "drop if _merge == 1\n",
    "drop _merge"
   ]
  },
  {
   "cell_type": "code",
   "execution_count": 476,
   "metadata": {},
   "outputs": [
    {
     "name": "stdout",
     "output_type": "stream",
     "text": [
      "(frequency weights assumed)\n",
      "\n",
      "                        ComSector1 |      Freq.     Percent        Cum.\n",
      "-----------------------------------+-----------------------------------\n",
      "        AccomodationandFoodService |35350440000        0.89        0.89\n",
      "          AdministrativeandSupport |26226640000        0.66        1.55\n",
      "                       Agriculture | 7.3607e+11       18.53       20.08\n",
      "   ArtsEntertainmentsAndRecreation |11102715000        0.28       20.36\n",
      "                      Construction |19924170000        0.50       20.86\n",
      "                         Education |27076473000        0.68       21.54\n",
      "             FinancialandInsurance | 1.3895e+11        3.50       25.04\n",
      "                 GasAndElectricity | 1.3648e+11        3.44       28.47\n",
      "    HumanHealthAndSocialActivities | 3.0237e+11        7.61       36.08\n",
      "       InformationandCommunication |97531779252        2.45       38.54\n",
      "                       Manufacture | 2.1571e+12       54.30       92.83\n",
      "                            Mining |11505010840        0.29       93.12\n",
      "                    OtherServicies |53637010000        1.35       94.47\n",
      "ProfessionalScientificandTechnical | 5169555000        0.13       94.60\n",
      "    PublicAdministrationAndDefence |  907765000        0.02       94.63\n",
      "                        RealEstate |73584992000        1.85       96.48\n",
      "          TransportationandStorage | 1.0388e+11        2.61       99.09\n",
      "                    WaterandSewage |36004253296        0.91      100.00\n",
      "-----------------------------------+-----------------------------------\n",
      "                             Total | 3.9729e+12      100.00\n"
     ]
    }
   ],
   "source": [
    "tab ComSector1 [w=value]"
   ]
  },
  {
   "cell_type": "code",
   "execution_count": 477,
   "metadata": {},
   "outputs": [],
   "source": [
    "/* drop ISIC4_value* */\n",
    "\n",
    "egen ISIC4_value1_exempt = sum(ComSector1_Coeff * value * (vat_rate == 0)), by(ComSector1)\n",
    "egen ISIC4_value1_vat    = sum(ComSector1_Coeff * value * (vat_rate == 9)), by(ComSector1)\n",
    "\n",
    "egen ISIC4_value2_exempt = sum(ComSector2_Coeff * value * (vat_rate == 0)), by(ComSector2)\n",
    "egen ISIC4_value2_vat    = sum(ComSector2_Coeff * value * (vat_rate == 9)), by(ComSector2)\n",
    "\n",
    "egen ISIC4_value3_exempt = sum(ComSector3_Coeff * value * (vat_rate == 0)), by(ComSector3)\n",
    "egen ISIC4_value3_vat    = sum(ComSector3_Coeff * value * (vat_rate == 9)), by(ComSector3)\n",
    "\n",
    "/* egen ISIC4_value1_exempt = sum(ComSector1_Coeff * value * (vat_rate == 0)), by(ISIC4_1)\n",
    "egen ISIC4_value1_vat    = sum(ComSector1_Coeff * value * (vat_rate == 9)), by(ISIC4_1)\n",
    "\n",
    "egen ISIC4_value2_exempt = sum(ComSector2_Coeff * value * (vat_rate == 0)), by(ISIC4_2)\n",
    "egen ISIC4_value2_vat    = sum(ComSector2_Coeff * value * (vat_rate == 9)), by(ISIC4_2)\n",
    "\n",
    "egen ISIC4_value3_exempt = sum(ComSector3_Coeff * value * (vat_rate == 0)), by(ISIC4_3)\n",
    "egen ISIC4_value3_vat    = sum(ComSector3_Coeff * value * (vat_rate == 9)), by(ISIC4_3) */"
   ]
  },
  {
   "cell_type": "code",
   "execution_count": 478,
   "metadata": {},
   "outputs": [
    {
     "name": "stdout",
     "output_type": "stream",
     "text": [
      "\n",
      "\n",
      "\n",
      "\n",
      "(note: file /var/folders/tk/1z6fw8316qs1r4xqyfdq95xr0000gn/T//St01128.00002x not\n",
      ">  found)\n",
      "file /var/folders/tk/1z6fw8316qs1r4xqyfdq95xr0000gn/T//St01128.00002x saved\n",
      "\n",
      "(note: file /var/folders/tk/1z6fw8316qs1r4xqyfdq95xr0000gn/T//St01128.000030 not\n",
      ">  found)\n",
      "file /var/folders/tk/1z6fw8316qs1r4xqyfdq95xr0000gn/T//St01128.000030 saved\n",
      "\n",
      "(note: file /var/folders/tk/1z6fw8316qs1r4xqyfdq95xr0000gn/T//St01128.000031 not\n",
      ">  found)\n",
      "file /var/folders/tk/1z6fw8316qs1r4xqyfdq95xr0000gn/T//St01128.000031 saved\n",
      "\n",
      "\n",
      "\n",
      "\n",
      "\n",
      "Duplicates in terms of all variables\n",
      "\n",
      "(1,012,174 observations deleted)\n",
      "\n",
      "file /var/folders/tk/1z6fw8316qs1r4xqyfdq95xr0000gn/T//St01128.00002x saved\n",
      "\n",
      "\n",
      "\n",
      "\n",
      "\n",
      "\n",
      "Duplicates in terms of all variables\n",
      "\n",
      "(1,012,188 observations deleted)\n",
      "\n",
      "file /var/folders/tk/1z6fw8316qs1r4xqyfdq95xr0000gn/T//St01128.000030 saved\n",
      "\n",
      "\n",
      "\n",
      "\n",
      "\n",
      "\n",
      "Duplicates in terms of all variables\n",
      "\n",
      "(1,012,189 observations deleted)\n",
      "\n",
      "file /var/folders/tk/1z6fw8316qs1r4xqyfdq95xr0000gn/T//St01128.000031 saved\n",
      "\n"
     ]
    }
   ],
   "source": [
    "tempfile isic_1\n",
    "tempfile isic_2\n",
    "tempfile isic_3\n",
    "save `isic_1', replace empty\n",
    "save `isic_2', replace empty\n",
    "save `isic_3', replace empty\n",
    "\n",
    "preserve\n",
    "    keep  ComSector1 ISIC4_value1_exempt ISIC4_value1_vat\n",
    "    rename ComSector1 ComSector\n",
    "    duplicates drop\n",
    "    save `isic_1', replace\n",
    "restore\n",
    "\n",
    "preserve\n",
    "    keep  ComSector2 ISIC4_value2_exempt ISIC4_value2_vat\n",
    "    rename ComSector2 ComSector\n",
    "    duplicates drop\n",
    "    save `isic_2', replace\n",
    "restore\n",
    "\n",
    "preserve\n",
    "    keep  ComSector3 ISIC4_value3_exempt ISIC4_value3_vat\n",
    "    rename ComSector3 ComSector\n",
    "    duplicates drop\n",
    "    save `isic_3', replace\n",
    "restore"
   ]
  },
  {
   "cell_type": "markdown",
   "metadata": {},
   "source": [
    "## Merge 3 columns"
   ]
  },
  {
   "cell_type": "code",
   "execution_count": 479,
   "metadata": {},
   "outputs": [
    {
     "name": "stdout",
     "output_type": "stream",
     "text": [
      "\n",
      "\n",
      "\n",
      "(note: variable ComSector was str34, now str42 to accommodate using data's\n",
      "       values)\n",
      "\n",
      "    Result                           # of obs.\n",
      "    -----------------------------------------\n",
      "    not matched                            16\n",
      "        from master                        15  (_merge==1)\n",
      "        from using                          1  (_merge==2)\n",
      "\n",
      "    matched                                 3  (_merge==3)\n",
      "    -----------------------------------------\n"
     ]
    }
   ],
   "source": [
    "clear\n",
    "use `isic_1'\n",
    "merge 1:m ComSector using `isic_2'"
   ]
  },
  {
   "cell_type": "code",
   "execution_count": 480,
   "metadata": {},
   "outputs": [
    {
     "name": "stdout",
     "output_type": "stream",
     "text": [
      "\n",
      "\n",
      "\n",
      "    Result                           # of obs.\n",
      "    -----------------------------------------\n",
      "    not matched                            16\n",
      "        from master                        16  (_merge==1)\n",
      "        from using                          0  (_merge==2)\n",
      "\n",
      "    matched                                 3  (_merge==3)\n",
      "    -----------------------------------------\n"
     ]
    }
   ],
   "source": [
    "drop _merge\n",
    "merge 1:m ComSector using `isic_3'"
   ]
  },
  {
   "cell_type": "code",
   "execution_count": 481,
   "metadata": {},
   "outputs": [
    {
     "name": "stdout",
     "output_type": "stream",
     "text": [
      "\n",
      "(1 observation deleted)\n",
      "\n",
      "\n",
      "(0 real changes made)\n",
      "(15 real changes made)\n",
      "(16 real changes made)\n",
      "(0 real changes made)\n",
      "(15 real changes made)\n",
      "(16 real changes made)\n"
     ]
    }
   ],
   "source": [
    "drop if missing(ComSector)\n",
    "\n",
    "local vars ISIC4_value1_exempt ISIC4_value2_exempt ISIC4_value3_exempt ISIC4_value1_vat ISIC4_value2_vat ISIC4_value3_vat\n",
    "foreach var of local vars {\n",
    "    replace `var' = 0 if missing(`var')\n",
    "}"
   ]
  },
  {
   "cell_type": "markdown",
   "metadata": {},
   "source": [
    "# Gen exempt ratio"
   ]
  },
  {
   "cell_type": "code",
   "execution_count": 482,
   "metadata": {},
   "outputs": [],
   "source": [
    "/* drop total_* */\n",
    "gen total_exempt_value = ISIC4_value1_exempt + ISIC4_value2_exempt + ISIC4_value3_exempt\n",
    "gen total_taxable_value = ISIC4_value1_vat + ISIC4_value2_vat + ISIC4_value3_vat"
   ]
  },
  {
   "cell_type": "code",
   "execution_count": 483,
   "metadata": {},
   "outputs": [],
   "source": [
    "gen exempt_ratio = total_exempt_value / (total_exempt_value + total_taxable_value)"
   ]
  },
  {
   "cell_type": "code",
   "execution_count": 484,
   "metadata": {},
   "outputs": [
    {
     "name": "stdout",
     "output_type": "stream",
     "text": [
      "(bin=4, start=0, width=.25)\n"
     ]
    },
    {
     "data": {
      "application/pdf": "[encoded data removed]",
      "image/svg+xml": [
       "<?xml version=\"1.0\" encoding=\"UTF-8\" standalone=\"no\"?>\n",
       "<!-- This is a Stata generated SVG file (http://www.stata.com) -->\n",
       "\n",
       "<svg version=\"1.1\" width=\"600px\" height=\"436px\" viewBox=\"0 0 3960 2880\" xmlns=\"http://www.w3.org/2000/svg\">\n",
       "\t<rect x=\"0.00\" y=\"0.00\" width=\"3959.88\" height=\"2880.00\" style=\"fill:#EAF2F3;stroke:#EAF2F3;stroke-width:5.76\"/>\n",
       "\t<rect x=\"390.80\" y=\"100.86\" width=\"3468.22\" height=\"2388.33\" style=\"fill:#FFFFFF;stroke:#FFFFFF;stroke-width:5.76\"/>\n",
       "\t<line x1=\"390.80\" y1=\"2489.19\" x2=\"3859.02\" y2=\"2489.19\" style=\"stroke:#EAF2F3;stroke-width:8.64\"/>\n",
       "\t<line x1=\"390.80\" y1=\"2024.24\" x2=\"3859.02\" y2=\"2024.24\" style=\"stroke:#EAF2F3;stroke-width:8.64\"/>\n",
       "\t<line x1=\"390.80\" y1=\"1559.17\" x2=\"3859.02\" y2=\"1559.17\" style=\"stroke:#EAF2F3;stroke-width:8.64\"/>\n",
       "\t<line x1=\"390.80\" y1=\"1094.23\" x2=\"3859.02\" y2=\"1094.23\" style=\"stroke:#EAF2F3;stroke-width:8.64\"/>\n",
       "\t<line x1=\"390.80\" y1=\"629.16\" x2=\"3859.02\" y2=\"629.16\" style=\"stroke:#EAF2F3;stroke-width:8.64\"/>\n",
       "\t<line x1=\"390.80\" y1=\"164.22\" x2=\"3859.02\" y2=\"164.22\" style=\"stroke:#EAF2F3;stroke-width:8.64\"/>\n",
       "\t<rect x=\"825.41\" y=\"164.22\" width=\"742.62\" height=\"2324.96\" style=\"fill:#CAC27E;stroke:#D7D29E;stroke-width:8.64\"/>\n",
       "\t<rect x=\"1568.04\" y=\"1714.24\" width=\"742.50\" height=\"774.95\" style=\"fill:#CAC27E;stroke:#D7D29E;stroke-width:8.64\"/>\n",
       "\t<rect x=\"3053.16\" y=\"939.17\" width=\"742.50\" height=\"1550.02\" style=\"fill:#CAC27E;stroke:#D7D29E;stroke-width:8.64\"/>\n",
       "\t<line x1=\"390.80\" y1=\"2489.19\" x2=\"390.80\" y2=\"100.86\" style=\"stroke:#000000;stroke-width:5.76\"/>\n",
       "\t<line x1=\"390.80\" y1=\"2489.19\" x2=\"350.83\" y2=\"2489.19\" style=\"stroke:#000000;stroke-width:5.76\"/>\n",
       "\t<text x=\"300.72\" y=\"2489.19\" style=\"font-family:'Helvetica';font-size:99.99px;fill:#000000\" transform=\"rotate(-90 300.72,2489.19)\" text-anchor=\"middle\">0</text>\n",
       "\t<line x1=\"390.80\" y1=\"2024.24\" x2=\"350.83\" y2=\"2024.24\" style=\"stroke:#000000;stroke-width:5.76\"/>\n",
       "\t<text x=\"300.72\" y=\"2024.24\" style=\"font-family:'Helvetica';font-size:99.99px;fill:#000000\" transform=\"rotate(-90 300.72,2024.24)\" text-anchor=\"middle\">10</text>\n",
       "\t<line x1=\"390.80\" y1=\"1559.17\" x2=\"350.83\" y2=\"1559.17\" style=\"stroke:#000000;stroke-width:5.76\"/>\n",
       "\t<text x=\"300.72\" y=\"1559.17\" style=\"font-family:'Helvetica';font-size:99.99px;fill:#000000\" transform=\"rotate(-90 300.72,1559.17)\" text-anchor=\"middle\">20</text>\n",
       "\t<line x1=\"390.80\" y1=\"1094.23\" x2=\"350.83\" y2=\"1094.23\" style=\"stroke:#000000;stroke-width:5.76\"/>\n",
       "\t<text x=\"300.72\" y=\"1094.23\" style=\"font-family:'Helvetica';font-size:99.99px;fill:#000000\" transform=\"rotate(-90 300.72,1094.23)\" text-anchor=\"middle\">30</text>\n",
       "\t<line x1=\"390.80\" y1=\"629.16\" x2=\"350.83\" y2=\"629.16\" style=\"stroke:#000000;stroke-width:5.76\"/>\n",
       "\t<text x=\"300.72\" y=\"629.16\" style=\"font-family:'Helvetica';font-size:99.99px;fill:#000000\" transform=\"rotate(-90 300.72,629.16)\" text-anchor=\"middle\">40</text>\n",
       "\t<line x1=\"390.80\" y1=\"164.22\" x2=\"350.83\" y2=\"164.22\" style=\"stroke:#000000;stroke-width:5.76\"/>\n",
       "\t<text x=\"300.72\" y=\"164.22\" style=\"font-family:'Helvetica';font-size:99.99px;fill:#000000\" transform=\"rotate(-90 300.72,164.22)\" text-anchor=\"middle\">50</text>\n",
       "\t<text x=\"190.71\" y=\"1294.96\" style=\"font-family:'Helvetica';font-size:99.99px;fill:#000000\" transform=\"rotate(-90 190.71,1294.96)\" text-anchor=\"middle\">Percent</text>\n",
       "\t<line x1=\"390.80\" y1=\"2489.19\" x2=\"3859.02\" y2=\"2489.19\" style=\"stroke:#000000;stroke-width:5.76\"/>\n",
       "\t<line x1=\"825.41\" y1=\"2489.19\" x2=\"825.41\" y2=\"2529.16\" style=\"stroke:#000000;stroke-width:5.76\"/>\n",
       "\t<text x=\"825.41\" y=\"2619.14\" style=\"font-family:'Helvetica';font-size:99.99px;fill:#000000\" text-anchor=\"middle\">0</text>\n",
       "\t<line x1=\"1419.54\" y1=\"2489.19\" x2=\"1419.54\" y2=\"2529.16\" style=\"stroke:#000000;stroke-width:5.76\"/>\n",
       "\t<text x=\"1419.54\" y=\"2619.14\" style=\"font-family:'Helvetica';font-size:99.99px;fill:#000000\" text-anchor=\"middle\">.2</text>\n",
       "\t<line x1=\"2013.54\" y1=\"2489.19\" x2=\"2013.54\" y2=\"2529.16\" style=\"stroke:#000000;stroke-width:5.76\"/>\n",
       "\t<text x=\"2013.54\" y=\"2619.14\" style=\"font-family:'Helvetica';font-size:99.99px;fill:#000000\" text-anchor=\"middle\">.4</text>\n",
       "\t<line x1=\"2607.66\" y1=\"2489.19\" x2=\"2607.66\" y2=\"2529.16\" style=\"stroke:#000000;stroke-width:5.76\"/>\n",
       "\t<text x=\"2607.66\" y=\"2619.14\" style=\"font-family:'Helvetica';font-size:99.99px;fill:#000000\" text-anchor=\"middle\">.6</text>\n",
       "\t<line x1=\"3201.66\" y1=\"2489.19\" x2=\"3201.66\" y2=\"2529.16\" style=\"stroke:#000000;stroke-width:5.76\"/>\n",
       "\t<text x=\"3201.66\" y=\"2619.14\" style=\"font-family:'Helvetica';font-size:99.99px;fill:#000000\" text-anchor=\"middle\">.8</text>\n",
       "\t<text x=\"2124.91\" y=\"2729.16\" style=\"font-family:'Helvetica';font-size:99.99px;fill:#000000\" text-anchor=\"middle\">exempt_ratio</text>\n",
       "</svg>\n"
      ],
      "text/html": [
       "                <iframe frameborder=\"0\" scrolling=\"no\" height=\"436\" width=\"600\"                srcdoc=\"<html><body>&lt;?xml version=&quot;1.0&quot; encoding=&quot;UTF-8&quot; standalone=&quot;no&quot;?&gt;\n",
       "&lt;!-- This is a Stata generated SVG file (http://www.stata.com) --&gt;\n",
       "\n",
       "&lt;svg version=&quot;1.1&quot; width=&quot;600px&quot; height=&quot;436px&quot; viewBox=&quot;0 0 3960 2880&quot; xmlns=&quot;http://www.w3.org/2000/svg&quot;&gt;\n",
       "\t&lt;rect x=&quot;0.00&quot; y=&quot;0.00&quot; width=&quot;3959.88&quot; height=&quot;2880.00&quot; style=&quot;fill:#EAF2F3;stroke:#EAF2F3;stroke-width:5.76&quot;/&gt;\n",
       "\t&lt;rect x=&quot;390.80&quot; y=&quot;100.86&quot; width=&quot;3468.22&quot; height=&quot;2388.33&quot; style=&quot;fill:#FFFFFF;stroke:#FFFFFF;stroke-width:5.76&quot;/&gt;\n",
       "\t&lt;line x1=&quot;390.80&quot; y1=&quot;2489.19&quot; x2=&quot;3859.02&quot; y2=&quot;2489.19&quot; style=&quot;stroke:#EAF2F3;stroke-width:8.64&quot;/&gt;\n",
       "\t&lt;line x1=&quot;390.80&quot; y1=&quot;2024.24&quot; x2=&quot;3859.02&quot; y2=&quot;2024.24&quot; style=&quot;stroke:#EAF2F3;stroke-width:8.64&quot;/&gt;\n",
       "\t&lt;line x1=&quot;390.80&quot; y1=&quot;1559.17&quot; x2=&quot;3859.02&quot; y2=&quot;1559.17&quot; style=&quot;stroke:#EAF2F3;stroke-width:8.64&quot;/&gt;\n",
       "\t&lt;line x1=&quot;390.80&quot; y1=&quot;1094.23&quot; x2=&quot;3859.02&quot; y2=&quot;1094.23&quot; style=&quot;stroke:#EAF2F3;stroke-width:8.64&quot;/&gt;\n",
       "\t&lt;line x1=&quot;390.80&quot; y1=&quot;629.16&quot; x2=&quot;3859.02&quot; y2=&quot;629.16&quot; style=&quot;stroke:#EAF2F3;stroke-width:8.64&quot;/&gt;\n",
       "\t&lt;line x1=&quot;390.80&quot; y1=&quot;164.22&quot; x2=&quot;3859.02&quot; y2=&quot;164.22&quot; style=&quot;stroke:#EAF2F3;stroke-width:8.64&quot;/&gt;\n",
       "\t&lt;rect x=&quot;825.41&quot; y=&quot;164.22&quot; width=&quot;742.62&quot; height=&quot;2324.96&quot; style=&quot;fill:#CAC27E;stroke:#D7D29E;stroke-width:8.64&quot;/&gt;\n",
       "\t&lt;rect x=&quot;1568.04&quot; y=&quot;1714.24&quot; width=&quot;742.50&quot; height=&quot;774.95&quot; style=&quot;fill:#CAC27E;stroke:#D7D29E;stroke-width:8.64&quot;/&gt;\n",
       "\t&lt;rect x=&quot;3053.16&quot; y=&quot;939.17&quot; width=&quot;742.50&quot; height=&quot;1550.02&quot; style=&quot;fill:#CAC27E;stroke:#D7D29E;stroke-width:8.64&quot;/&gt;\n",
       "\t&lt;line x1=&quot;390.80&quot; y1=&quot;2489.19&quot; x2=&quot;390.80&quot; y2=&quot;100.86&quot; style=&quot;stroke:#000000;stroke-width:5.76&quot;/&gt;\n",
       "\t&lt;line x1=&quot;390.80&quot; y1=&quot;2489.19&quot; x2=&quot;350.83&quot; y2=&quot;2489.19&quot; style=&quot;stroke:#000000;stroke-width:5.76&quot;/&gt;\n",
       "\t&lt;text x=&quot;300.72&quot; y=&quot;2489.19&quot; style=&quot;font-family:&#x27;Helvetica&#x27;;font-size:99.99px;fill:#000000&quot; transform=&quot;rotate(-90 300.72,2489.19)&quot; text-anchor=&quot;middle&quot;&gt;0&lt;/text&gt;\n",
       "\t&lt;line x1=&quot;390.80&quot; y1=&quot;2024.24&quot; x2=&quot;350.83&quot; y2=&quot;2024.24&quot; style=&quot;stroke:#000000;stroke-width:5.76&quot;/&gt;\n",
       "\t&lt;text x=&quot;300.72&quot; y=&quot;2024.24&quot; style=&quot;font-family:&#x27;Helvetica&#x27;;font-size:99.99px;fill:#000000&quot; transform=&quot;rotate(-90 300.72,2024.24)&quot; text-anchor=&quot;middle&quot;&gt;10&lt;/text&gt;\n",
       "\t&lt;line x1=&quot;390.80&quot; y1=&quot;1559.17&quot; x2=&quot;350.83&quot; y2=&quot;1559.17&quot; style=&quot;stroke:#000000;stroke-width:5.76&quot;/&gt;\n",
       "\t&lt;text x=&quot;300.72&quot; y=&quot;1559.17&quot; style=&quot;font-family:&#x27;Helvetica&#x27;;font-size:99.99px;fill:#000000&quot; transform=&quot;rotate(-90 300.72,1559.17)&quot; text-anchor=&quot;middle&quot;&gt;20&lt;/text&gt;\n",
       "\t&lt;line x1=&quot;390.80&quot; y1=&quot;1094.23&quot; x2=&quot;350.83&quot; y2=&quot;1094.23&quot; style=&quot;stroke:#000000;stroke-width:5.76&quot;/&gt;\n",
       "\t&lt;text x=&quot;300.72&quot; y=&quot;1094.23&quot; style=&quot;font-family:&#x27;Helvetica&#x27;;font-size:99.99px;fill:#000000&quot; transform=&quot;rotate(-90 300.72,1094.23)&quot; text-anchor=&quot;middle&quot;&gt;30&lt;/text&gt;\n",
       "\t&lt;line x1=&quot;390.80&quot; y1=&quot;629.16&quot; x2=&quot;350.83&quot; y2=&quot;629.16&quot; style=&quot;stroke:#000000;stroke-width:5.76&quot;/&gt;\n",
       "\t&lt;text x=&quot;300.72&quot; y=&quot;629.16&quot; style=&quot;font-family:&#x27;Helvetica&#x27;;font-size:99.99px;fill:#000000&quot; transform=&quot;rotate(-90 300.72,629.16)&quot; text-anchor=&quot;middle&quot;&gt;40&lt;/text&gt;\n",
       "\t&lt;line x1=&quot;390.80&quot; y1=&quot;164.22&quot; x2=&quot;350.83&quot; y2=&quot;164.22&quot; style=&quot;stroke:#000000;stroke-width:5.76&quot;/&gt;\n",
       "\t&lt;text x=&quot;300.72&quot; y=&quot;164.22&quot; style=&quot;font-family:&#x27;Helvetica&#x27;;font-size:99.99px;fill:#000000&quot; transform=&quot;rotate(-90 300.72,164.22)&quot; text-anchor=&quot;middle&quot;&gt;50&lt;/text&gt;\n",
       "\t&lt;text x=&quot;190.71&quot; y=&quot;1294.96&quot; style=&quot;font-family:&#x27;Helvetica&#x27;;font-size:99.99px;fill:#000000&quot; transform=&quot;rotate(-90 190.71,1294.96)&quot; text-anchor=&quot;middle&quot;&gt;Percent&lt;/text&gt;\n",
       "\t&lt;line x1=&quot;390.80&quot; y1=&quot;2489.19&quot; x2=&quot;3859.02&quot; y2=&quot;2489.19&quot; style=&quot;stroke:#000000;stroke-width:5.76&quot;/&gt;\n",
       "\t&lt;line x1=&quot;825.41&quot; y1=&quot;2489.19&quot; x2=&quot;825.41&quot; y2=&quot;2529.16&quot; style=&quot;stroke:#000000;stroke-width:5.76&quot;/&gt;\n",
       "\t&lt;text x=&quot;825.41&quot; y=&quot;2619.14&quot; style=&quot;font-family:&#x27;Helvetica&#x27;;font-size:99.99px;fill:#000000&quot; text-anchor=&quot;middle&quot;&gt;0&lt;/text&gt;\n",
       "\t&lt;line x1=&quot;1419.54&quot; y1=&quot;2489.19&quot; x2=&quot;1419.54&quot; y2=&quot;2529.16&quot; style=&quot;stroke:#000000;stroke-width:5.76&quot;/&gt;\n",
       "\t&lt;text x=&quot;1419.54&quot; y=&quot;2619.14&quot; style=&quot;font-family:&#x27;Helvetica&#x27;;font-size:99.99px;fill:#000000&quot; text-anchor=&quot;middle&quot;&gt;.2&lt;/text&gt;\n",
       "\t&lt;line x1=&quot;2013.54&quot; y1=&quot;2489.19&quot; x2=&quot;2013.54&quot; y2=&quot;2529.16&quot; style=&quot;stroke:#000000;stroke-width:5.76&quot;/&gt;\n",
       "\t&lt;text x=&quot;2013.54&quot; y=&quot;2619.14&quot; style=&quot;font-family:&#x27;Helvetica&#x27;;font-size:99.99px;fill:#000000&quot; text-anchor=&quot;middle&quot;&gt;.4&lt;/text&gt;\n",
       "\t&lt;line x1=&quot;2607.66&quot; y1=&quot;2489.19&quot; x2=&quot;2607.66&quot; y2=&quot;2529.16&quot; style=&quot;stroke:#000000;stroke-width:5.76&quot;/&gt;\n",
       "\t&lt;text x=&quot;2607.66&quot; y=&quot;2619.14&quot; style=&quot;font-family:&#x27;Helvetica&#x27;;font-size:99.99px;fill:#000000&quot; text-anchor=&quot;middle&quot;&gt;.6&lt;/text&gt;\n",
       "\t&lt;line x1=&quot;3201.66&quot; y1=&quot;2489.19&quot; x2=&quot;3201.66&quot; y2=&quot;2529.16&quot; style=&quot;stroke:#000000;stroke-width:5.76&quot;/&gt;\n",
       "\t&lt;text x=&quot;3201.66&quot; y=&quot;2619.14&quot; style=&quot;font-family:&#x27;Helvetica&#x27;;font-size:99.99px;fill:#000000&quot; text-anchor=&quot;middle&quot;&gt;.8&lt;/text&gt;\n",
       "\t&lt;text x=&quot;2124.91&quot; y=&quot;2729.16&quot; style=&quot;font-family:&#x27;Helvetica&#x27;;font-size:99.99px;fill:#000000&quot; text-anchor=&quot;middle&quot;&gt;exempt_ratio&lt;/text&gt;\n",
       "&lt;/svg&gt;\n",
       "</body></html>\"></iframe>\n"
      ],
      "text/plain": [
       "This front-end cannot display the desired image type."
      ]
     },
     "metadata": {
      "image/svg+xml": {
       "height": 436,
       "width": 600
      },
      "text/html": {
       "height": 436,
       "width": 600
      }
     },
     "output_type": "display_data"
    },
    {
     "name": "stdout",
     "output_type": "stream",
     "text": [
      "\n"
     ]
    }
   ],
   "source": [
    "/* list ISIC4 total_exempt_value total_vat_value exempt_ratio */\n",
    "hist exempt_ratio, percent"
   ]
  },
  {
   "cell_type": "code",
   "execution_count": 485,
   "metadata": {},
   "outputs": [],
   "source": [
    "keep  total_exempt_value total_taxable_value exempt_ratio ComSector"
   ]
  },
  {
   "cell_type": "code",
   "execution_count": 486,
   "metadata": {},
   "outputs": [
    {
     "name": "stdout",
     "output_type": "stream",
     "text": [
      "file ComSector_exempt_ratio_98_R.xlsx saved\n"
     ]
    }
   ],
   "source": [
    "export excel using \"ComSector_exempt_ratio_`year'_`RU'.xlsx\", replace firstrow(variables)"
   ]
  },
  {
   "cell_type": "code",
   "execution_count": null,
   "metadata": {},
   "outputs": [],
   "source": []
  }
 ],
 "metadata": {
  "kernelspec": {
   "display_name": "Stata",
   "language": "stata",
   "name": "stata"
  },
  "language_info": {
   "codemirror_mode": "stata",
   "file_extension": ".do",
   "mimetype": "text/x-stata",
   "name": "stata",
   "version": "15.1"
  },
  "orig_nbformat": 4
 },
 "nbformat": 4,
 "nbformat_minor": 2
}
